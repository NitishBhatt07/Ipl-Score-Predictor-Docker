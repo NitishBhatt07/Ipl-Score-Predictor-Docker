{
 "cells": [
  {
   "cell_type": "code",
   "execution_count": 3,
   "id": "4777f60e",
   "metadata": {},
   "outputs": [],
   "source": [
    "import pandas as pd\n",
    "import numpy as np\n",
    "\n",
    "from yaml import safe_load\n",
    "\n",
    "import os\n",
    "\n",
    "## tqdm is for seeing the prgresss\n",
    "from tqdm import tqdm\n",
    "\n",
    "import warnings\n",
    "warnings.filterwarnings('ignore')\n",
    "\n",
    "pd.pandas.set_option(\"Display.max_columns\",None)"
   ]
  },
  {
   "cell_type": "markdown",
   "id": "e4f7e9cc",
   "metadata": {},
   "source": [
    "##  yml to dataframe"
   ]
  },
  {
   "cell_type": "code",
   "execution_count": null,
   "id": "cf5261c3",
   "metadata": {},
   "outputs": [],
   "source": [
    "filenames = []\n",
    "for file in os.listdir('Data'):\n",
    "    filenames.append(os.path.join(\"Data\",file))"
   ]
  },
  {
   "cell_type": "code",
   "execution_count": null,
   "id": "613305dd",
   "metadata": {},
   "outputs": [],
   "source": [
    "df = pd.DataFrame()\n",
    "counter = 1\n",
    "for file in tqdm(filenames):\n",
    "    with open(file,'r') as f:\n",
    "        df_temp = pd.json_normalize(safe_load(f))\n",
    "        df_temp['match_id'] = counter\n",
    "        df = df.append(df_temp)\n",
    "        counter+=1"
   ]
  },
  {
   "cell_type": "code",
   "execution_count": null,
   "id": "dc7abd78",
   "metadata": {},
   "outputs": [],
   "source": [
    "df.to_csv('ymal_to_dataframe.csv')"
   ]
  },
  {
   "cell_type": "code",
   "execution_count": null,
   "id": "2c9780fd",
   "metadata": {},
   "outputs": [],
   "source": [
    "backup = df.copy()"
   ]
  },
  {
   "cell_type": "code",
   "execution_count": null,
   "id": "2d721316",
   "metadata": {},
   "outputs": [],
   "source": [
    "df.head()"
   ]
  },
  {
   "cell_type": "code",
   "execution_count": null,
   "id": "9969ef7f",
   "metadata": {},
   "outputs": [],
   "source": [
    "column = ['match_id','innings','info.city','info.competition','info.gender','info.match_type','info.overs','info.teams','info.venue']\n",
    "df = df[column]"
   ]
  },
  {
   "cell_type": "code",
   "execution_count": null,
   "id": "90f697c7",
   "metadata": {},
   "outputs": [],
   "source": [
    "df.head()"
   ]
  },
  {
   "cell_type": "code",
   "execution_count": null,
   "id": "aef899e2",
   "metadata": {},
   "outputs": [],
   "source": [
    "df = df.drop(['info.competition','info.match_type','info.overs','info.gender'],axis=1)"
   ]
  },
  {
   "cell_type": "code",
   "execution_count": null,
   "id": "8b678c46",
   "metadata": {},
   "outputs": [],
   "source": [
    "df.head()"
   ]
  },
  {
   "cell_type": "code",
   "execution_count": null,
   "id": "d2256078",
   "metadata": {},
   "outputs": [],
   "source": [
    "## getting bowl by bowl data\n",
    "\n",
    "count = 1\n",
    "delivery_df = pd.DataFrame()\n",
    "for index , row in df.iterrows():\n",
    "    if count in [75,108,150,180,268,360,443,458,584,784,982,1052,1111,1226,1345]:\n",
    "        count+=1\n",
    "        continue\n",
    "    count+=1\n",
    "    ball_of_match = []\n",
    "    batsman = []\n",
    "    bowler = []\n",
    "    runs = []\n",
    "    player_of_dismissed = []\n",
    "    teams = []\n",
    "    batting_team = []\n",
    "    match_id = []\n",
    "    city = []\n",
    "    venue = []\n",
    "    for ball in row['innings'][0]['1st innings']['deliveries']:\n",
    "        \n",
    "          for key in ball.keys():\n",
    "            match_id.append(count)\n",
    "            batting_team.append(row['innings'][0]['1st innings']['team'])\n",
    "            teams.append(row['info.teams'])\n",
    "            ball_of_match.append(key)\n",
    "            batsman.append(ball[key]['batsman'])\n",
    "            bowler.append(ball[key]['bowler'])\n",
    "            runs.append(ball[key]['runs']['total'])\n",
    "            city.append(row['info.city'])\n",
    "            venue.append(row['info.venue'])\n",
    "            try:\n",
    "                player_of_dismissed.append(ball[key]['wicket']['player_out'])\n",
    "            except:\n",
    "                player_of_dismissed.append(0)\n",
    "    loop_df = pd.DataFrame({\n",
    "        'match_id':match_id,\n",
    "        'teams':teams,\n",
    "        'batting_team':batting_team,\n",
    "        'ball':ball_of_match,\n",
    "        'batsman':batsman,\n",
    "        'bowler':bowler,\n",
    "        'runs':runs,\n",
    "        'player_dismissed':player_of_dismissed,\n",
    "        'city':city,\n",
    "        'venue':venue,\n",
    "    })\n",
    "\n",
    "    delivery_df = delivery_df.append(loop_df)\n"
   ]
  },
  {
   "cell_type": "code",
   "execution_count": null,
   "id": "aeb10971",
   "metadata": {},
   "outputs": [],
   "source": [
    "delivery_df.head()"
   ]
  },
  {
   "cell_type": "markdown",
   "id": "bbf37a81",
   "metadata": {},
   "source": [
    "## Data form we want for Model\n",
    "### batting_team   bowling_team   current_score   wicket_left   current_runrate   city   balls_left   runs_last_five_overs"
   ]
  },
  {
   "cell_type": "code",
   "execution_count": null,
   "id": "0dc49411",
   "metadata": {},
   "outputs": [],
   "source": [
    "## getting bowler team\n",
    "def bowl(row):\n",
    "    for team in row['teams']:\n",
    "        if team != row['batting_team']:\n",
    "            return team\n",
    "        \n",
    "delivery_df['bowling_team'] = delivery_df.apply(bowl,axis=1)\n",
    "delivery_df = delivery_df.drop(['teams'],axis=1)"
   ]
  },
  {
   "cell_type": "code",
   "execution_count": null,
   "id": "63b77d36",
   "metadata": {},
   "outputs": [],
   "source": [
    "delivery_df.head()"
   ]
  },
  {
   "cell_type": "code",
   "execution_count": null,
   "id": "30675ce8",
   "metadata": {},
   "outputs": [],
   "source": [
    "### keepig only the current ipl team\n",
    "eligable_teams = ['Mumbai Indians','Kings XI Punjab','Royal Challengers Bangalore','Chennai Super Kings',\n",
    "                  'Kolkata Knight Riders','Sunrisers Hyderabad','Rajasthan Royals','Delhi Capitals']"
   ]
  },
  {
   "cell_type": "code",
   "execution_count": null,
   "id": "969bc17b",
   "metadata": {},
   "outputs": [],
   "source": [
    "delivery_df = delivery_df[delivery_df['batting_team'].isin(eligable_teams)]\n",
    "delivery_df = delivery_df[delivery_df['bowling_team'].isin(eligable_teams)]"
   ]
  },
  {
   "cell_type": "code",
   "execution_count": null,
   "id": "e1e12427",
   "metadata": {},
   "outputs": [],
   "source": [
    "delivery_df.to_csv(\"main_cleaned.csv\")"
   ]
  },
  {
   "cell_type": "code",
   "execution_count": null,
   "id": "b67b2973",
   "metadata": {},
   "outputs": [],
   "source": [
    "df = pd.read_csv(\"main_cleaned.csv\")\n",
    "df = df.drop(['Unnamed: 0'],axis=1)"
   ]
  },
  {
   "cell_type": "code",
   "execution_count": null,
   "id": "b36a77a5",
   "metadata": {},
   "outputs": [],
   "source": [
    "# null values\n",
    "df.isnull().sum()"
   ]
  },
  {
   "cell_type": "code",
   "execution_count": null,
   "id": "d40c256a",
   "metadata": {},
   "outputs": [],
   "source": [
    "## filling city value with help of venue\n",
    "## df[df['city'].isnull()]['venue'].str.split().apply(lambda x: x[0])\n",
    "cities = np.where(df['city'].isnull(),df['venue'].str.split().apply(lambda x: x[0]),df['city'])\n",
    "df['city'] = cities\n",
    "df = df.drop(['venue'],axis=1)"
   ]
  },
  {
   "cell_type": "code",
   "execution_count": null,
   "id": "63e5d0ba",
   "metadata": {},
   "outputs": [],
   "source": [
    "df.head()"
   ]
  },
  {
   "cell_type": "code",
   "execution_count": null,
   "id": "8389f049",
   "metadata": {},
   "outputs": [],
   "source": [
    "## city has many values we need to fix it\n",
    "## we simpaly take the city where atleast 5 matches are played\n",
    "## means where balls > 600 , means 5 matches played\n",
    "\n",
    "eligable_cities = df['city'].value_counts()[df['city'].value_counts() > 600].index\n",
    "df = df[df['city'].isin(eligable_cities)]"
   ]
  },
  {
   "cell_type": "code",
   "execution_count": null,
   "id": "c3f0f281",
   "metadata": {},
   "outputs": [],
   "source": [
    "df.head()"
   ]
  },
  {
   "cell_type": "code",
   "execution_count": null,
   "id": "96b967eb",
   "metadata": {},
   "outputs": [],
   "source": [
    "## current score\n",
    "df['current_score'] = df.groupby('match_id').cumsum()['runs']"
   ]
  },
  {
   "cell_type": "code",
   "execution_count": null,
   "id": "21aad631",
   "metadata": {},
   "outputs": [],
   "source": [
    "## balls left\n",
    "df['over'] = df['ball'].apply(lambda x : str(x).split('.')[0])\n",
    "df['ball_no'] = df['ball'].apply(lambda x : str(x).split('.')[1])"
   ]
  },
  {
   "cell_type": "code",
   "execution_count": null,
   "id": "d595b1b5",
   "metadata": {},
   "outputs": [],
   "source": [
    "## how many bolws are thrown\n",
    "df['balls_bowled']  = df['over'].astype('int')*6 + df['ball_no'].astype('int')"
   ]
  },
  {
   "cell_type": "code",
   "execution_count": null,
   "id": "8c1ed840",
   "metadata": {},
   "outputs": [],
   "source": [
    "## balls left\n",
    "df['balls_left'] = 120 - df['balls_bowled']\n",
    "## because extra\n",
    "df['balls_left'] = df['balls_left'].apply(lambda x: 0 if x<0 else x)"
   ]
  },
  {
   "cell_type": "code",
   "execution_count": null,
   "id": "48ec3184",
   "metadata": {},
   "outputs": [],
   "source": [
    "df.head()"
   ]
  },
  {
   "cell_type": "code",
   "execution_count": null,
   "id": "4e237133",
   "metadata": {},
   "outputs": [],
   "source": [
    "## wicket left\n",
    "df['player_dismissed'] = df['player_dismissed'].apply(lambda x : 0 if x=='0' else 1)\n",
    "df['player_dismissed'] = df['player_dismissed'].astype(int)\n",
    "df['player_dismissed'] = df.groupby('match_id').cumsum()['player_dismissed']\n",
    "df['wicket_left'] = 10 -df['player_dismissed']"
   ]
  },
  {
   "cell_type": "code",
   "execution_count": null,
   "id": "4e787776",
   "metadata": {},
   "outputs": [],
   "source": [
    "df.head()"
   ]
  },
  {
   "cell_type": "code",
   "execution_count": null,
   "id": "27636e61",
   "metadata": {},
   "outputs": [],
   "source": [
    "## current run rate\n",
    "df['crr'] = (df['current_score']*6)/df['balls_bowled']"
   ]
  },
  {
   "cell_type": "code",
   "execution_count": null,
   "id": "ed93b569",
   "metadata": {},
   "outputs": [],
   "source": [
    "### last five over runs\n",
    "## window 30 because 5*6=30 , 5 over 6 balls\n",
    "groups = df.groupby('match_id')\n",
    "\n",
    "match_ids = df['match_id'].unique()\n",
    "last_Five = []\n",
    "for id in match_ids:\n",
    "    last_Five.extend(groups.get_group(id).rolling(window=30).sum()['runs'].values.tolist())"
   ]
  },
  {
   "cell_type": "code",
   "execution_count": null,
   "id": "3e87d203",
   "metadata": {},
   "outputs": [],
   "source": [
    "df['last_five'] = last_Five"
   ]
  },
  {
   "cell_type": "code",
   "execution_count": null,
   "id": "0dec94df",
   "metadata": {},
   "outputs": [],
   "source": [
    "df.head()"
   ]
  },
  {
   "cell_type": "code",
   "execution_count": null,
   "id": "72bb8ed4",
   "metadata": {},
   "outputs": [],
   "source": [
    "## final score in this match\n",
    "df = df.groupby('match_id').sum()['runs'].reset_index().merge(df,on='match_id')"
   ]
  },
  {
   "cell_type": "code",
   "execution_count": null,
   "id": "ba883f86",
   "metadata": {},
   "outputs": [],
   "source": [
    "df.head()"
   ]
  },
  {
   "cell_type": "code",
   "execution_count": null,
   "id": "c5bc9675",
   "metadata": {},
   "outputs": [],
   "source": [
    "df = df[['batting_team','bowling_team','city','current_score','balls_left','wicket_left','crr','last_five','runs_x']]"
   ]
  },
  {
   "cell_type": "code",
   "execution_count": null,
   "id": "2af72e7a",
   "metadata": {},
   "outputs": [],
   "source": [
    "df.dropna(inplace=True)"
   ]
  },
  {
   "cell_type": "code",
   "execution_count": null,
   "id": "ed50136e",
   "metadata": {},
   "outputs": [],
   "source": [
    "df.head()"
   ]
  },
  {
   "cell_type": "code",
   "execution_count": null,
   "id": "99355357",
   "metadata": {},
   "outputs": [],
   "source": [
    "## because ouer data not goes bised so we are doing suffling\n",
    "df = df.sample(df.shape[0])"
   ]
  },
  {
   "cell_type": "code",
   "execution_count": null,
   "id": "9cf586cf",
   "metadata": {},
   "outputs": [],
   "source": [
    "df.head()"
   ]
  },
  {
   "cell_type": "code",
   "execution_count": null,
   "id": "7fd2da91",
   "metadata": {},
   "outputs": [],
   "source": [
    "df.to_csv(\"last_csv_data.csv\")"
   ]
  },
  {
   "cell_type": "markdown",
   "id": "a9e8de36",
   "metadata": {},
   "source": [
    "## train test split"
   ]
  },
  {
   "cell_type": "code",
   "execution_count": 4,
   "id": "ec1cc405",
   "metadata": {},
   "outputs": [],
   "source": [
    "new_df = pd.read_csv(\"last_csv_data.csv\")"
   ]
  },
  {
   "cell_type": "code",
   "execution_count": 5,
   "id": "5670ee28",
   "metadata": {},
   "outputs": [],
   "source": [
    "new_df = new_df.drop(['Unnamed: 0'],axis=1)"
   ]
  },
  {
   "cell_type": "code",
   "execution_count": 6,
   "id": "5ef131ec",
   "metadata": {},
   "outputs": [],
   "source": [
    "X = new_df.drop(['runs_x'],axis=1)\n",
    "y = new_df['runs_x']"
   ]
  },
  {
   "cell_type": "code",
   "execution_count": 7,
   "id": "eef7fa53",
   "metadata": {},
   "outputs": [],
   "source": [
    "from sklearn.model_selection import train_test_split\n",
    "X_train,X_test,y_train,y_test = train_test_split(X,y,test_size=0.2)"
   ]
  },
  {
   "cell_type": "code",
   "execution_count": 8,
   "id": "62238f61",
   "metadata": {},
   "outputs": [
    {
     "data": {
      "text/html": [
       "<div>\n",
       "<style scoped>\n",
       "    .dataframe tbody tr th:only-of-type {\n",
       "        vertical-align: middle;\n",
       "    }\n",
       "\n",
       "    .dataframe tbody tr th {\n",
       "        vertical-align: top;\n",
       "    }\n",
       "\n",
       "    .dataframe thead th {\n",
       "        text-align: right;\n",
       "    }\n",
       "</style>\n",
       "<table border=\"1\" class=\"dataframe\">\n",
       "  <thead>\n",
       "    <tr style=\"text-align: right;\">\n",
       "      <th></th>\n",
       "      <th>batting_team</th>\n",
       "      <th>bowling_team</th>\n",
       "      <th>city</th>\n",
       "      <th>current_score</th>\n",
       "      <th>balls_left</th>\n",
       "      <th>wicket_left</th>\n",
       "      <th>crr</th>\n",
       "      <th>last_five</th>\n",
       "    </tr>\n",
       "  </thead>\n",
       "  <tbody>\n",
       "    <tr>\n",
       "      <th>18987</th>\n",
       "      <td>Sunrisers Hyderabad</td>\n",
       "      <td>Chennai Super Kings</td>\n",
       "      <td>Pune</td>\n",
       "      <td>171</td>\n",
       "      <td>3</td>\n",
       "      <td>6</td>\n",
       "      <td>8.769231</td>\n",
       "      <td>45.0</td>\n",
       "    </tr>\n",
       "    <tr>\n",
       "      <th>21409</th>\n",
       "      <td>Royal Challengers Bangalore</td>\n",
       "      <td>Kolkata Knight Riders</td>\n",
       "      <td>Kolkata</td>\n",
       "      <td>46</td>\n",
       "      <td>85</td>\n",
       "      <td>9</td>\n",
       "      <td>7.885714</td>\n",
       "      <td>32.0</td>\n",
       "    </tr>\n",
       "    <tr>\n",
       "      <th>22681</th>\n",
       "      <td>Chennai Super Kings</td>\n",
       "      <td>Royal Challengers Bangalore</td>\n",
       "      <td>Bangalore</td>\n",
       "      <td>47</td>\n",
       "      <td>77</td>\n",
       "      <td>9</td>\n",
       "      <td>6.558140</td>\n",
       "      <td>31.0</td>\n",
       "    </tr>\n",
       "    <tr>\n",
       "      <th>27659</th>\n",
       "      <td>Royal Challengers Bangalore</td>\n",
       "      <td>Chennai Super Kings</td>\n",
       "      <td>Bangalore</td>\n",
       "      <td>95</td>\n",
       "      <td>41</td>\n",
       "      <td>7</td>\n",
       "      <td>7.215190</td>\n",
       "      <td>36.0</td>\n",
       "    </tr>\n",
       "    <tr>\n",
       "      <th>35831</th>\n",
       "      <td>Royal Challengers Bangalore</td>\n",
       "      <td>Kings XI Punjab</td>\n",
       "      <td>Chandigarh</td>\n",
       "      <td>129</td>\n",
       "      <td>10</td>\n",
       "      <td>3</td>\n",
       "      <td>7.036364</td>\n",
       "      <td>37.0</td>\n",
       "    </tr>\n",
       "  </tbody>\n",
       "</table>\n",
       "</div>"
      ],
      "text/plain": [
       "                      batting_team                 bowling_team        city  \\\n",
       "18987          Sunrisers Hyderabad          Chennai Super Kings        Pune   \n",
       "21409  Royal Challengers Bangalore        Kolkata Knight Riders     Kolkata   \n",
       "22681          Chennai Super Kings  Royal Challengers Bangalore   Bangalore   \n",
       "27659  Royal Challengers Bangalore          Chennai Super Kings   Bangalore   \n",
       "35831  Royal Challengers Bangalore              Kings XI Punjab  Chandigarh   \n",
       "\n",
       "       current_score  balls_left  wicket_left       crr  last_five  \n",
       "18987            171           3            6  8.769231       45.0  \n",
       "21409             46          85            9  7.885714       32.0  \n",
       "22681             47          77            9  6.558140       31.0  \n",
       "27659             95          41            7  7.215190       36.0  \n",
       "35831            129          10            3  7.036364       37.0  "
      ]
     },
     "execution_count": 8,
     "metadata": {},
     "output_type": "execute_result"
    }
   ],
   "source": [
    "X_test.head()"
   ]
  },
  {
   "cell_type": "code",
   "execution_count": 9,
   "id": "86ee81cb",
   "metadata": {},
   "outputs": [],
   "source": [
    "from sklearn.pipeline import Pipeline\n",
    "from sklearn.compose import ColumnTransformer\n",
    "from sklearn.preprocessing import StandardScaler\n",
    "from sklearn.ensemble import RandomForestRegressor\n",
    "from xgboost import XGBRegressor\n",
    "from sklearn.linear_model import LinearRegression\n",
    "from sklearn.svm import SVR\n",
    "from sklearn.preprocessing import OneHotEncoder\n",
    "from sklearn.metrics import r2_score , mean_absolute_error"
   ]
  },
  {
   "cell_type": "code",
   "execution_count": 10,
   "id": "dae0d518",
   "metadata": {},
   "outputs": [],
   "source": [
    "trf = ColumnTransformer([\n",
    "    ('trf',OneHotEncoder(sparse=False,drop='first'),['batting_team','bowling_team','city'])\n",
    "],\n",
    "remainder='passthrough'\n",
    ")"
   ]
  },
  {
   "cell_type": "code",
   "execution_count": null,
   "id": "902487d0",
   "metadata": {},
   "outputs": [],
   "source": [
    "## for XGBoost\n",
    "pipe_xgb = Pipeline(steps=[\n",
    "    ('column_transfomer',trf),\n",
    "    ('standaradiztion',StandardScaler()),\n",
    "    ('model',XGBRegressor(n_estimators=1000,learning_rate=0.2,max_depth=12,random_state=1))\n",
    "])\n",
    "\n",
    "pipe_xgb.fit(X_train,y_train)\n",
    "\n",
    "y_pred = pipe_xgb.predict(X_test)\n",
    "print(f\"train score: {pipe_xgb.score(X_train,y_train)}\")\n",
    "print(f\"test r2 score: {r2_score(y_test,y_pred)}\")\n",
    "print(f\"mae: {mean_absolute_error(y_test,y_pred)}\")"
   ]
  },
  {
   "cell_type": "code",
   "execution_count": 12,
   "id": "e0dc8b85",
   "metadata": {},
   "outputs": [
    {
     "name": "stdout",
     "output_type": "stream",
     "text": [
      "train score: 0.8784125126990758\n",
      "test r2 score: 0.856333300598374\n",
      "mae: 7.870687984533939\n"
     ]
    }
   ],
   "source": [
    "## radnom Forest\n",
    "pipe_rf = Pipeline(steps=[\n",
    "    ('column_transfomer',trf),\n",
    "    ('standaradiztion',StandardScaler()),\n",
    "    ('model',RandomForestRegressor(n_estimators=1000,max_depth=12,random_state=1))\n",
    "])\n",
    "\n",
    "pipe_rf.fit(X_train,y_train)\n",
    "\n",
    "y_pred = pipe_rf.predict(X_test)\n",
    "print(f\"train score: {pipe_rf.score(X_train,y_train)}\")\n",
    "print(f\"test r2 score: {r2_score(y_test,y_pred)}\")\n",
    "print(f\"mae: {mean_absolute_error(y_test,y_pred)}\")"
   ]
  },
  {
   "cell_type": "code",
   "execution_count": null,
   "id": "73d3710c",
   "metadata": {},
   "outputs": [],
   "source": [
    "### linear regressor\n",
    "pipe_lr = Pipeline(steps=[\n",
    "    ('column_transfomer',trf),\n",
    "    ('standaradiztion',StandardScaler()),\n",
    "    ('model',LinearRegression())\n",
    "])\n",
    "\n",
    "pipe_lr.fit(X_train,y_train)\n",
    "\n",
    "y_pred = pipe_lr.predict(X_test)\n",
    "print(f\"train score: {pipe_lr.score(X_train,y_train)}\")\n",
    "print(f\"test r2 score: {r2_score(y_test,y_pred)}\")\n",
    "print(f\"mae: {mean_absolute_error(y_test,y_pred)}\")"
   ]
  },
  {
   "cell_type": "code",
   "execution_count": null,
   "id": "66c342ef",
   "metadata": {},
   "outputs": [],
   "source": [
    "### SVM\n",
    "pipe_svm = Pipeline(steps=[\n",
    "    ('column_transfomer',trf),\n",
    "    ('standaradiztion',StandardScaler()),\n",
    "    ('model',SVR())\n",
    "])\n",
    "\n",
    "pipe_svm.fit(X_train,y_train)\n",
    "\n",
    "y_pred = pipe_svm.predict(X_test)\n",
    "print(f\"train score: {pipe_svm.score(X_train,y_train)}\")\n",
    "print(f\"test r2 score: {r2_score(y_test,y_pred)}\")\n",
    "print(f\"mae: {mean_absolute_error(y_test,y_pred)}\")"
   ]
  },
  {
   "cell_type": "code",
   "execution_count": null,
   "id": "039044b3",
   "metadata": {},
   "outputs": [],
   "source": [
    "import pickle\n",
    "pickle.dump(pipe_xgb,open('Ipl_xgboostRegressor_model.pkl','wb'))\n",
    "pickle.dump(pipe_rf,open('Ipl_randomforest_model.pkl','wb'))"
   ]
  },
  {
   "cell_type": "code",
   "execution_count": 16,
   "id": "cd9a5215",
   "metadata": {},
   "outputs": [],
   "source": []
  },
  {
   "cell_type": "code",
   "execution_count": 13,
   "id": "e9e850c1",
   "metadata": {},
   "outputs": [
    {
     "data": {
      "text/plain": [
       "['Ipl_randomforest_model.pkl']"
      ]
     },
     "execution_count": 13,
     "metadata": {},
     "output_type": "execute_result"
    }
   ],
   "source": [
    "import joblib\n",
    "joblib.dump(pipe_rf,'Ipl_randomforest_model.pkl')"
   ]
  },
  {
   "cell_type": "code",
   "execution_count": 14,
   "id": "d46b4fee",
   "metadata": {},
   "outputs": [],
   "source": [
    "model = joblib.load('Ipl_randomforest_model.pkl') "
   ]
  },
  {
   "cell_type": "code",
   "execution_count": 23,
   "id": "b52caa9a",
   "metadata": {},
   "outputs": [],
   "source": [
    "df_to_pred = pd.DataFrame([['Rajasthan Royals','Kings XI Punjab','Chandigarh',148,25,7,7.03,49]],\n",
    "             columns=['batting_team', 'bowling_team', 'city', 'current_score', 'balls_left',\n",
    "       'wicket_left', 'crr', 'last_five'])"
   ]
  },
  {
   "cell_type": "code",
   "execution_count": 24,
   "id": "0d6138f3",
   "metadata": {},
   "outputs": [
    {
     "data": {
      "text/plain": [
       "150.55888462186414"
      ]
     },
     "execution_count": 24,
     "metadata": {},
     "output_type": "execute_result"
    }
   ],
   "source": [
    "predicated = model.predict(df_to_pred)\n",
    "predicated[0]"
   ]
  },
  {
   "cell_type": "code",
   "execution_count": null,
   "id": "6df0ac2f",
   "metadata": {},
   "outputs": [],
   "source": []
  },
  {
   "cell_type": "code",
   "execution_count": null,
   "id": "b19b1400",
   "metadata": {},
   "outputs": [],
   "source": []
  }
 ],
 "metadata": {
  "kernelspec": {
   "display_name": "Python 3",
   "language": "python",
   "name": "python3"
  },
  "language_info": {
   "codemirror_mode": {
    "name": "ipython",
    "version": 3
   },
   "file_extension": ".py",
   "mimetype": "text/x-python",
   "name": "python",
   "nbconvert_exporter": "python",
   "pygments_lexer": "ipython3",
   "version": "3.8.8"
  }
 },
 "nbformat": 4,
 "nbformat_minor": 5
}
